{
 "cells": [
  {
   "cell_type": "code",
   "execution_count": 1,
   "id": "a90210a4",
   "metadata": {},
   "outputs": [],
   "source": [
    "from api import *\n"
   ]
  },
  {
   "cell_type": "code",
   "execution_count": 2,
   "id": "505b70a4",
   "metadata": {},
   "outputs": [
    {
     "name": "stdout",
     "output_type": "stream",
     "text": [
      "Skipping invalid item: 1 validation error for Product\n",
      "description\n",
      "  Value error, Easy upgrade for faster boot up, shutdown, application load and response (As compared to 5400 RPM SATA 2.5” hard drive; Based on published specifications and internal benchmarking tests using PCMark vantage scores) Boosts burst write performance, making it ideal for typical PC workloads The perfect balance of performance and reliability Read/write speeds of up to 535MB/s/450MB/s (Based on internal testing; Performance may vary depending upon drive capacity, host device, OS and application.) is too long! [type=value_error, input_value='Easy upgrade for faster ...e, OS and application.)', input_type=str]\n",
      "    For further information visit https://errors.pydantic.dev/2.11/v/value_error\n",
      "Skipping invalid item: 1 validation error for Product\n",
      "description\n",
      "  Value error, 3D NAND flash are applied to deliver high transfer speeds Remarkable transfer speeds that enable faster bootup and improved overall system performance. The advanced SLC Cache Technology allows performance boost and longer lifespan 7mm slim design suitable for Ultrabooks and Ultra-slim notebooks. Supports TRIM command, Garbage Collection technology, RAID, and ECC (Error Checking & Correction) to provide the optimized performance and enhanced reliability. is too long! [type=value_error, input_value='3D NAND flash are applie...d enhanced reliability.', input_type=str]\n",
      "    For further information visit https://errors.pydantic.dev/2.11/v/value_error\n",
      "Skipping invalid item: 1 validation error for Product\n",
      "description\n",
      "  Value error, Note:The Jackets is US standard size, Please choose size as your usual wear Material: 100% Polyester; Detachable Liner Fabric: Warm Fleece. Detachable Functional Liner: Skin Friendly, Lightweigt and Warm.Stand Collar Liner jacket, keep you warm in cold weather. Zippered Pockets: 2 Zippered Hand Pockets, 2 Zippered Pockets on Chest (enough to keep cards or keys)and 1 Hidden Pocket Inside.Zippered Hand Pockets and Hidden Pocket keep your things secure. Humanized Design: Adjustable and Detachable Hood and Adjustable cuff to prevent the wind and water,for a comfortable fit. 3 in 1 Detachable Design provide more convenience, you can separate the coat and inner as needed, or wear it together. It is suitable for different season and help you adapt to different climates is too long! [type=value_error, input_value='Note:The Jackets is US s...t to different climates', input_type=str]\n",
      "    For further information visit https://errors.pydantic.dev/2.11/v/value_error\n"
     ]
    }
   ],
   "source": [
    "raw = extract_products()\n",
    "transformed = transform_products(raw)"
   ]
  },
  {
   "cell_type": "code",
   "execution_count": 3,
   "id": "aacc2c98",
   "metadata": {},
   "outputs": [
    {
     "name": "stdout",
     "output_type": "stream",
     "text": [
      "Inserted 17 products into the DB\n"
     ]
    }
   ],
   "source": [
    "load_products(transformed)"
   ]
  },
  {
   "cell_type": "code",
   "execution_count": null,
   "id": "97fc5b15",
   "metadata": {},
   "outputs": [],
   "source": []
  }
 ],
 "metadata": {
  "kernelspec": {
   "display_name": ".venv",
   "language": "python",
   "name": "python3"
  },
  "language_info": {
   "codemirror_mode": {
    "name": "ipython",
    "version": 3
   },
   "file_extension": ".py",
   "mimetype": "text/x-python",
   "name": "python",
   "nbconvert_exporter": "python",
   "pygments_lexer": "ipython3",
   "version": "3.13.3"
  }
 },
 "nbformat": 4,
 "nbformat_minor": 5
}
